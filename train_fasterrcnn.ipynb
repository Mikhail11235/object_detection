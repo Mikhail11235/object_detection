{
  "nbformat": 4,
  "nbformat_minor": 0,
  "metadata": {
    "colab": {
      "name": "train_fasterrcnn.ipynb",
      "provenance": [],
      "collapsed_sections": []
    },
    "kernelspec": {
      "name": "python3",
      "display_name": "Python 3"
    },
    "language_info": {
      "name": "python"
    }
  },
  "cells": [
    {
      "cell_type": "code",
      "execution_count": null,
      "metadata": {
        "id": "UYZZPU0rzgbQ"
      },
      "outputs": [],
      "source": [
        "!pip install -q -U albumentations\n",
        "!pip install roboflow\n",
        "%pip uninstall opencv-python-headless\n",
        "%pip install opencv-python-headless==4.1.2.30"
      ]
    },
    {
      "cell_type": "code",
      "source": [
        "import pandas as pd\n",
        "import numpy as np\n",
        "import cv2\n",
        "import os\n",
        "import re\n",
        "from PIL import Image\n",
        "import albumentations as A\n",
        "from albumentations.pytorch import ToTensorV2\n",
        "import torch\n",
        "import torchvision\n",
        "from torchvision.models.detection.faster_rcnn import FastRCNNPredictor\n",
        "from torchvision.models.detection import FasterRCNN\n",
        "from torchvision.models.detection.rpn import AnchorGenerator\n",
        "from torch.utils.data import DataLoader, Dataset\n",
        "from torch.utils.data.sampler import SequentialSampler\n",
        "from matplotlib import pyplot as plt\n",
        "from roboflow import Roboflow\n",
        "\n",
        "\n",
        "DIR_INPUT = 'YOUR_DATASET_DIR'\n",
        "DIR_TRAIN = f'{DIR_INPUT}/train'\n",
        "DIR_TEST = f'{DIR_INPUT}/test'"
      ],
      "metadata": {
        "id": "j7RxI5huzsaL"
      },
      "execution_count": null,
      "outputs": []
    },
    {
      "cell_type": "code",
      "source": [
        "#  Downoad dataset from Roboflow in TF object detection format (CSV)\n",
        "\n",
        "rf = Roboflow(api_key=\"YOUR API_KEY\")\n",
        "project = rf.workspace(\"WORKSPACE\").project(\"PROJECT\")\n",
        "dataset = project.version(4).download(\"tensorflow\")"
      ],
      "metadata": {
        "id": "op_pJs8Y2TaO"
      },
      "execution_count": null,
      "outputs": []
    },
    {
      "cell_type": "code",
      "source": [
        "# Rename the images to remove invalid characters that are added by roboflow\n",
        "\n",
        "for file in list(os.walk(DIR_TRAIN))[0][2]:\n",
        "  if file[-3:] == \"jpg\":\n",
        "    new_file_name = file[0:11] + file[-8:-5] + \".jpg\"\n",
        "    os.rename(f\"{DIR_TRAIN}/{file}\", f\"{DIR_TRAIN}/{new_file_name}\")"
      ],
      "metadata": {
        "id": "IDii6Q8U5jBB"
      },
      "execution_count": null,
      "outputs": []
    },
    {
      "cell_type": "code",
      "source": [
        "train_df = pd.read_csv(f'{DIR_INPUT}/train/_annotations.csv')\n",
        "\n",
        "# Beautify annotation\n",
        "train_df['image_id'] = train_df['filename'].str.slice(0,11) + train_df['filename'].str.slice(-8,-5)\n",
        "train_df['x'] = train_df['xmin'].astype(np.float64)\n",
        "train_df['y'] = train_df['ymin'].astype(np.float64)\n",
        "train_df['w'] = (train_df['xmax'] - train_df['xmin']).astype(np.float64)\n",
        "train_df['h'] = (train_df['ymax'] - train_df['ymin']).astype(np.float64)\n",
        "train_df['source'] = train_df['class'].astype(np.int64)\n",
        "train_df.drop(columns=['width', 'height', 'xmin', 'xmax', 'ymin', 'ymax', 'filename', 'class'], inplace=True)\n",
        "\n",
        "# Split\n",
        "image_ids = train_df['image_id'].unique()\n",
        "valid_ids = image_ids[394:]\n",
        "train_ids = image_ids[:394]"
      ],
      "metadata": {
        "id": "_CrkhptZ2uFd"
      },
      "execution_count": null,
      "outputs": []
    },
    {
      "cell_type": "code",
      "source": [
        "class WheatDataset(Dataset):\n",
        "\n",
        "    def __init__(self, dataframe, image_dir, transforms=None):\n",
        "        super().__init__()\n",
        "        self.image_ids = dataframe['image_id'].unique()\n",
        "        self.df = dataframe\n",
        "        self.image_dir = image_dir\n",
        "        self.transforms = transforms\n",
        "\n",
        "    def __getitem__(self, index: int):\n",
        "        image_id = self.image_ids[index]\n",
        "        records = self.df[self.df['image_id'] == image_id]\n",
        "        image = cv2.imread(f'{self.image_dir}/{image_id}.jpg', cv2.IMREAD_COLOR)\n",
        "        image = cv2.cvtColor(image, cv2.COLOR_BGR2RGB).astype(np.float32)\n",
        "        image /= 255.0\n",
        "        boxes = records[['x', 'y', 'w', 'h']].values\n",
        "        boxes[:, 2] = boxes[:, 0] + boxes[:, 2]\n",
        "        boxes[:, 3] = boxes[:, 1] + boxes[:, 3]\n",
        "        area = (boxes[:, 3] - boxes[:, 1]) * (boxes[:, 2] - boxes[:, 0])\n",
        "        area = torch.as_tensor(area, dtype=torch.float32)\n",
        "        labels = torch.ones((records.shape[0],), dtype=torch.int64)\n",
        "        iscrowd = torch.zeros((records.shape[0],), dtype=torch.int64)\n",
        "        target = {}\n",
        "        target['boxes'] = boxes\n",
        "        target['labels'] = labels\n",
        "        target['image_id'] = torch.tensor([index])\n",
        "        target['area'] = area\n",
        "        target['iscrowd'] = iscrowd\n",
        "        if self.transforms:\n",
        "            sample = {\n",
        "                'image': image,\n",
        "                'bboxes': target['boxes'],\n",
        "                'labels': labels\n",
        "            }\n",
        "            sample = self.transforms(**sample)\n",
        "            image = sample['image']\n",
        "            target['boxes'] = torch.stack(tuple(map(torch.tensor, zip(*sample['bboxes'])))).permute(1, 0)\n",
        "        return image, target, image_id\n",
        "\n",
        "    def __len__(self) -> int:\n",
        "        return self.image_ids.shape[0]"
      ],
      "metadata": {
        "id": "_UUhXVJA27NO"
      },
      "execution_count": null,
      "outputs": []
    },
    {
      "cell_type": "code",
      "source": [
        "class Averager:\n",
        "    def __init__(self):\n",
        "        self.current_total = 0.0\n",
        "        self.iterations = 0.0\n",
        "\n",
        "    def send(self, value):\n",
        "        self.current_total += value\n",
        "        self.iterations += 1\n",
        "\n",
        "    @property\n",
        "    def value(self):\n",
        "        if self.iterations == 0:\n",
        "            return 0\n",
        "        else:\n",
        "            return 1.0 * self.current_total / self.iterations\n",
        "\n",
        "    def reset(self):\n",
        "        self.current_total = 0.0\n",
        "        self.iterations = 0.0"
      ],
      "metadata": {
        "id": "HmVjNbwx3b4C"
      },
      "execution_count": null,
      "outputs": []
    },
    {
      "cell_type": "code",
      "source": [
        "def collate_fn(batch):\n",
        "    return tuple(zip(*batch))"
      ],
      "metadata": {
        "id": "YCDLKoyy3owy"
      },
      "execution_count": null,
      "outputs": []
    },
    {
      "cell_type": "code",
      "source": [
        "train_dataset = WheatDataset(train_df, DIR_TRAIN, get_train_transform())\n",
        "valid_dataset = WheatDataset(valid_df, DIR_TRAIN, get_valid_transform())\n",
        "indices = torch.randperm(len(train_dataset)).tolist()\n",
        "\n",
        "train_data_loader = DataLoader(\n",
        "    train_dataset,\n",
        "    batch_size=5,\n",
        "    shuffle=False,\n",
        "    num_workers=2,\n",
        "    collate_fn=collate_fn\n",
        ")\n",
        "\n",
        "valid_data_loader = DataLoader(\n",
        "    valid_dataset,\n",
        "    batch_size=5,\n",
        "    shuffle=False,\n",
        "    num_workers=2,\n",
        "    collate_fn=collate_fn\n",
        ")"
      ],
      "metadata": {
        "id": "K0LcfFMr3iKj"
      },
      "execution_count": null,
      "outputs": []
    },
    {
      "cell_type": "code",
      "source": [
        "def get_train_transform():\n",
        "    return A.Compose([\n",
        "        ToTensorV2(p=1.0)\n",
        "    ], bbox_params={'format': 'pascal_voc', 'label_fields': ['labels']})\n",
        "\n",
        "def get_valid_transform():\n",
        "    return A.Compose([\n",
        "        ToTensorV2(p=1.0)\n",
        "    ], bbox_params={'format': 'pascal_voc', 'label_fields': ['labels']})"
      ],
      "metadata": {
        "id": "9tcXpbdt3E4-"
      },
      "execution_count": null,
      "outputs": []
    },
    {
      "cell_type": "code",
      "source": [
        "model = torchvision.models.detection.fasterrcnn_resnet50_fpn(pretrained=True)\n",
        "num_classes = 2\n",
        "in_features = model.roi_heads.box_predictor.cls_score.in_features\n",
        "model.roi_heads.box_predictor = FastRCNNPredictor(in_features, num_classes)"
      ],
      "metadata": {
        "id": "9plpFFom3HDu"
      },
      "execution_count": null,
      "outputs": []
    },
    {
      "cell_type": "code",
      "source": [
        "device = torch.device('cuda') if torch.cuda.is_available() else torch.device('cpu')"
      ],
      "metadata": {
        "id": "YrWLhlA13txJ"
      },
      "execution_count": null,
      "outputs": []
    },
    {
      "cell_type": "code",
      "source": [
        "model.to(device)\n",
        "params = [p for p in model.parameters() if p.requires_grad]\n",
        "optimizer = torch.optim.SGD(params, lr=0.005, momentum=0.9, weight_decay=0.0005)"
      ],
      "metadata": {
        "id": "ZjR2sjuZ3xbG"
      },
      "execution_count": null,
      "outputs": []
    },
    {
      "cell_type": "code",
      "source": [
        "loss_hist = Averager()\n",
        "itr = 1\n",
        "num_epochs = 50\n",
        "\n",
        "for epoch in range(num_epochs):\n",
        "    loss_hist.reset()\n",
        "    for images, targets, image_ids in train_data_loader:\n",
        "        images = list(image.to(device) for image in images)\n",
        "        targets = [{k: v.to(device) for k, v in t.items()} for t in targets]\n",
        "        loss_dict = model(images, targets)\n",
        "        losses = sum(loss for loss in loss_dict.values())\n",
        "        loss_value = losses.item()\n",
        "        loss_hist.send(loss_value)\n",
        "        optimizer.zero_grad()\n",
        "        losses.backward()\n",
        "        optimizer.step()\n",
        "        if itr % 50 == 0:\n",
        "            print(f\"Iteration #{itr} loss: {loss_value}\")\n",
        "        itr += 1\n",
        "    print(f\"Epoch #{epoch} loss: {loss_hist.value}\")   "
      ],
      "metadata": {
        "id": "AbuXurg030NR"
      },
      "execution_count": null,
      "outputs": []
    },
    {
      "cell_type": "code",
      "source": [
        "torch.save(model.state_dict(), 'fasterrcnn_resnet50_fpn.pth')"
      ],
      "metadata": {
        "id": "7IlUKfl84AkR"
      },
      "execution_count": null,
      "outputs": []
    }
  ]
}