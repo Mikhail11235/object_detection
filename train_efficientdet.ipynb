{
  "nbformat": 4,
  "nbformat_minor": 0,
  "metadata": {
    "colab": {
      "name": "train_efficientdet.ipynb",
      "provenance": [],
      "collapsed_sections": []
    },
    "kernelspec": {
      "name": "python3",
      "display_name": "Python 3"
    },
    "language_info": {
      "name": "python"
    }
  },
  "cells": [
    {
      "cell_type": "code",
      "source": [
        "!git clone https://github.com/roboflow-ai/Monk_Object_Detection.git"
      ],
      "metadata": {
        "id": "b7eMf1cB-H83"
      },
      "execution_count": null,
      "outputs": []
    },
    {
      "cell_type": "code",
      "source": [
        "!pip install --force https://github.com/chengs/tqdm/archive/colab.zip\n",
        "!pip install tensorboardX\n",
        "!pip install roboflow\n",
        "!pip install --upgrade torch==1.6\n",
        "!pip install --upgrade torchvision==0.5\n",
        "!pip install --upgrade efficientnet_pytorch==0.6.3\n",
        "!cd Monk_Object_Detection/3_mxrcnn/installation && cat requirements_colab.txt | xargs -n 1 -L 1 pip install"
      ],
      "metadata": {
        "id": "KMmkDfD_-Pk3"
      },
      "execution_count": null,
      "outputs": []
    },
    {
      "cell_type": "code",
      "source": [
        "import os\n",
        "import sys\n",
        "import torch\n",
        "sys.path.append(\"Monk_Object_Detection/4_efficientdet/lib/\")\n",
        "from train_detector import Detector\n",
        "from mAP_evaluation import evaluate_coco"
      ],
      "metadata": {
        "id": "cFTHwP6PkgNR"
      },
      "execution_count": null,
      "outputs": []
    },
    {
      "cell_type": "code",
      "source": [
        "# Downoad dataset from Roboflow in COCO format (JSON)\n",
        "rf = Roboflow(api_key=\"YOUR API_KEY\")\n",
        "project = rf.workspace(\"WORKSPACE\").project(\"PROJECT\")\n",
        "dataset = project.version(4).download(\"tensorflow\")\n",
        "\n",
        "# Move\n",
        "!mkdir Fish\n",
        "!mkdir Fish/annotations\n",
        "!mkdir Fish/Annotations\n",
        "!mkdir Fish/Images\n",
        "%cp train/_annotations.coco.json Fish/annotations/instances_Images.json\n",
        "%cp valid/_annotations.coco.json Fish/annotations/instances_Valid.json\n",
        "%cp train/*.jpg /content/drive/MyDrive/Colab Notebooks/Fish/Images/\n",
        "%cp valid/*.jpg /content/drive/MyDrive/Colab Notebooks/Fish/Valid/"
      ],
      "metadata": {
        "id": "oishejwh-y1w"
      },
      "execution_count": null,
      "outputs": []
    },
    {
      "cell_type": "code",
      "source": [
        "root_dir = \"/content/drive/MyDrive/Colab Notebooks/\"\n",
        "coco_dir = \"Fish\"\n",
        "img_dir = \"./\"\n",
        "set_dir = \"Images\"\n",
        "val_dir = \"./\"\n",
        "set2_dir = \"Valid\""
      ],
      "metadata": {
        "id": "DY7ORbk5_qD2"
      },
      "execution_count": null,
      "outputs": []
    },
    {
      "cell_type": "code",
      "source": [
        "gtf = Detector()\n",
        "gtf.Train_Dataset(root_dir, coco_dir, img_dir, set_dir, batch_size=5, image_size=512, use_gpu=True)\n",
        "gtf.Val_Dataset(root_dir, coco_dir, val_dir, set2_dir)\n",
        "gtf.Model()\n",
        "gtf.Set_Hyperparams(lr=0.0001, val_interval=1, es_min_delta=0.0, es_patience=0)"
      ],
      "metadata": {
        "id": "5A_sZdUj_uiX"
      },
      "execution_count": null,
      "outputs": []
    },
    {
      "cell_type": "code",
      "source": [
        "gtf.Train(num_epochs=55, model_output_dir=\"trained/\")"
      ],
      "metadata": {
        "id": "vvbt7MJU_6dO"
      },
      "execution_count": null,
      "outputs": []
    },
    {
      "cell_type": "code",
      "source": [
        "torch.save(gtf.system_dict[\"local\"][\"model\"], \"/content/drive/MyDrive/Colab Notebooks/Fish/Efnet_model.pth\")"
      ],
      "metadata": {
        "id": "utOuRJ26ANkD"
      },
      "execution_count": null,
      "outputs": []
    }
  ]
}