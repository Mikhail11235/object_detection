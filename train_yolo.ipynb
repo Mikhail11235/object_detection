{
  "nbformat": 4,
  "nbformat_minor": 0,
  "metadata": {
    "colab": {
      "name": "train_yolo.ipynb",
      "provenance": [],
      "collapsed_sections": []
    },
    "kernelspec": {
      "name": "python3",
      "display_name": "Python 3"
    },
    "language_info": {
      "name": "python"
    },
    "accelerator": "GPU"
  },
  "cells": [
    {
      "cell_type": "code",
      "source": [
        "!pip install wandb\n",
        "!pip install roboflow"
      ],
      "metadata": {
        "id": "J-5rRvXa7uiR"
      },
      "execution_count": null,
      "outputs": []
    },
    {
      "cell_type": "code",
      "source": [
        "!git clone https://github.com/ultralytics/yolov5.git"
      ],
      "metadata": {
        "id": "yJiPya328_FS"
      },
      "execution_count": null,
      "outputs": []
    },
    {
      "cell_type": "code",
      "source": [
        "import wandb\n",
        "import roboflow"
      ],
      "metadata": {
        "id": "doWjPupp7wzo"
      },
      "execution_count": null,
      "outputs": []
    },
    {
      "cell_type": "code",
      "source": [
        "# Downoad dataset from Roboflow in YOLO format (txt)\n",
        "rf = Roboflow(api_key=\"YOUR API_KEY\")\n",
        "project = rf.workspace(\"WORKSPACE\").project(\"PROJECT\")\n",
        "dataset = project.version(4).download(\"tensorflow\")\n",
        "\n",
        "# Weights & Biases login\n",
        "wandb.login()"
      ],
      "metadata": {
        "id": "DFkY_DLQiKuo"
      },
      "execution_count": null,
      "outputs": []
    },
    {
      "cell_type": "code",
      "source": [
        "# yolov5m - YOLOv5 model, data.yaml - dataset config\n",
        "\n",
        "!cd yolov5 && python train.py --img 640 --batch 16 --epochs 55 --data data.yaml --weights yolov5m.pt"
      ],
      "metadata": {
        "id": "Rl0j2Bfuj5Hx"
      },
      "execution_count": null,
      "outputs": []
    }
  ]
}